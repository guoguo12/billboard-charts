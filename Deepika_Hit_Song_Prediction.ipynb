{
  "nbformat": 4,
  "nbformat_minor": 0,
  "metadata": {
    "colab": {
      "name": "Deepika_Hit_Song_Prediction.ipynb",
      "provenance": [],
      "authorship_tag": "ABX9TyPGpm+zSmq0ydTWG7giTDm5",
      "include_colab_link": true
    },
    "kernelspec": {
      "name": "python3",
      "display_name": "Python 3"
    },
    "language_info": {
      "name": "python"
    }
  },
  "cells": [
    {
      "cell_type": "markdown",
      "metadata": {
        "id": "view-in-github",
        "colab_type": "text"
      },
      "source": [
        "<a href=\"https://colab.research.google.com/github/Deepikakumar25/billboard-charts/blob/master/Deepika_Hit_Song_Prediction.ipynb\" target=\"_parent\"><img src=\"https://colab.research.google.com/assets/colab-badge.svg\" alt=\"Open In Colab\"/></a>"
      ]
    },
    {
      "cell_type": "code",
      "execution_count": 1,
      "metadata": {
        "colab": {
          "base_uri": "https://localhost:8080/"
        },
        "id": "85kKHOpRUZI4",
        "outputId": "47556cc1-d361-46fb-b4e7-18e039a0a67f"
      },
      "outputs": [
        {
          "output_type": "stream",
          "name": "stdout",
          "text": [
            "Collecting billboard.py\n",
            "  Downloading billboard.py-7.0.0-py2.py3-none-any.whl (7.0 kB)\n",
            "Requirement already satisfied: beautifulsoup4>=4.4.1 in /usr/local/lib/python3.7/dist-packages (from billboard.py) (4.6.3)\n",
            "Requirement already satisfied: requests>=2.2.1 in /usr/local/lib/python3.7/dist-packages (from billboard.py) (2.23.0)\n",
            "Requirement already satisfied: certifi>=2017.4.17 in /usr/local/lib/python3.7/dist-packages (from requests>=2.2.1->billboard.py) (2021.10.8)\n",
            "Requirement already satisfied: chardet<4,>=3.0.2 in /usr/local/lib/python3.7/dist-packages (from requests>=2.2.1->billboard.py) (3.0.4)\n",
            "Requirement already satisfied: urllib3!=1.25.0,!=1.25.1,<1.26,>=1.21.1 in /usr/local/lib/python3.7/dist-packages (from requests>=2.2.1->billboard.py) (1.24.3)\n",
            "Requirement already satisfied: idna<3,>=2.5 in /usr/local/lib/python3.7/dist-packages (from requests>=2.2.1->billboard.py) (2.10)\n",
            "Installing collected packages: billboard.py\n",
            "Successfully installed billboard.py-7.0.0\n"
          ]
        }
      ],
      "source": [
        "pip install billboard.py"
      ]
    },
    {
      "cell_type": "code",
      "source": [
        "pip install youtube_dl"
      ],
      "metadata": {
        "colab": {
          "base_uri": "https://localhost:8080/"
        },
        "id": "q1Yfzxt0VEYg",
        "outputId": "7ddbe898-7bbf-4888-cd6d-038580fd2e2e"
      },
      "execution_count": 6,
      "outputs": [
        {
          "output_type": "stream",
          "name": "stdout",
          "text": [
            "Collecting youtube_dl\n",
            "  Downloading youtube_dl-2021.12.17-py2.py3-none-any.whl (1.9 MB)\n",
            "\u001b[K     |████████████████████████████████| 1.9 MB 7.5 MB/s \n",
            "\u001b[?25hInstalling collected packages: youtube-dl\n",
            "Successfully installed youtube-dl-2021.12.17\n"
          ]
        }
      ]
    },
    {
      "cell_type": "code",
      "source": [
        "pip install numpy"
      ],
      "metadata": {
        "colab": {
          "base_uri": "https://localhost:8080/"
        },
        "id": "d7zFAgbve3g1",
        "outputId": "83a7c696-0ede-4013-a63c-deea7712abba"
      },
      "execution_count": 7,
      "outputs": [
        {
          "output_type": "stream",
          "name": "stdout",
          "text": [
            "Requirement already satisfied: numpy in /usr/local/lib/python3.7/dist-packages (1.19.5)\n"
          ]
        }
      ]
    },
    {
      "cell_type": "code",
      "source": [
        "pip install pychorus"
      ],
      "metadata": {
        "colab": {
          "base_uri": "https://localhost:8080/"
        },
        "id": "t3KMTwgAe9ik",
        "outputId": "ebb08386-06f7-4748-dd39-5b497b802861"
      },
      "execution_count": 8,
      "outputs": [
        {
          "output_type": "stream",
          "name": "stdout",
          "text": [
            "Collecting pychorus\n",
            "  Downloading pychorus-v0.1.tar.gz (5.1 kB)\n",
            "Requirement already satisfied: librosa in /usr/local/lib/python3.7/dist-packages (from pychorus) (0.8.1)\n",
            "Requirement already satisfied: numpy in /usr/local/lib/python3.7/dist-packages (from pychorus) (1.19.5)\n",
            "Requirement already satisfied: scipy in /usr/local/lib/python3.7/dist-packages (from pychorus) (1.4.1)\n",
            "Requirement already satisfied: soundfile in /usr/local/lib/python3.7/dist-packages (from pychorus) (0.10.3.post1)\n",
            "Requirement already satisfied: matplotlib in /usr/local/lib/python3.7/dist-packages (from pychorus) (3.2.2)\n",
            "Requirement already satisfied: joblib>=0.14 in /usr/local/lib/python3.7/dist-packages (from librosa->pychorus) (1.1.0)\n",
            "Requirement already satisfied: resampy>=0.2.2 in /usr/local/lib/python3.7/dist-packages (from librosa->pychorus) (0.2.2)\n",
            "Requirement already satisfied: scikit-learn!=0.19.0,>=0.14.0 in /usr/local/lib/python3.7/dist-packages (from librosa->pychorus) (1.0.2)\n",
            "Requirement already satisfied: packaging>=20.0 in /usr/local/lib/python3.7/dist-packages (from librosa->pychorus) (21.3)\n",
            "Requirement already satisfied: numba>=0.43.0 in /usr/local/lib/python3.7/dist-packages (from librosa->pychorus) (0.51.2)\n",
            "Requirement already satisfied: audioread>=2.0.0 in /usr/local/lib/python3.7/dist-packages (from librosa->pychorus) (2.1.9)\n",
            "Requirement already satisfied: decorator>=3.0.0 in /usr/local/lib/python3.7/dist-packages (from librosa->pychorus) (4.4.2)\n",
            "Requirement already satisfied: pooch>=1.0 in /usr/local/lib/python3.7/dist-packages (from librosa->pychorus) (1.5.2)\n",
            "Requirement already satisfied: setuptools in /usr/local/lib/python3.7/dist-packages (from numba>=0.43.0->librosa->pychorus) (57.4.0)\n",
            "Requirement already satisfied: llvmlite<0.35,>=0.34.0.dev0 in /usr/local/lib/python3.7/dist-packages (from numba>=0.43.0->librosa->pychorus) (0.34.0)\n",
            "Requirement already satisfied: pyparsing!=3.0.5,>=2.0.2 in /usr/local/lib/python3.7/dist-packages (from packaging>=20.0->librosa->pychorus) (3.0.6)\n",
            "Requirement already satisfied: requests in /usr/local/lib/python3.7/dist-packages (from pooch>=1.0->librosa->pychorus) (2.23.0)\n",
            "Requirement already satisfied: appdirs in /usr/local/lib/python3.7/dist-packages (from pooch>=1.0->librosa->pychorus) (1.4.4)\n",
            "Requirement already satisfied: six>=1.3 in /usr/local/lib/python3.7/dist-packages (from resampy>=0.2.2->librosa->pychorus) (1.15.0)\n",
            "Requirement already satisfied: threadpoolctl>=2.0.0 in /usr/local/lib/python3.7/dist-packages (from scikit-learn!=0.19.0,>=0.14.0->librosa->pychorus) (3.0.0)\n",
            "Requirement already satisfied: cffi>=1.0 in /usr/local/lib/python3.7/dist-packages (from soundfile->pychorus) (1.15.0)\n",
            "Requirement already satisfied: pycparser in /usr/local/lib/python3.7/dist-packages (from cffi>=1.0->soundfile->pychorus) (2.21)\n",
            "Requirement already satisfied: python-dateutil>=2.1 in /usr/local/lib/python3.7/dist-packages (from matplotlib->pychorus) (2.8.2)\n",
            "Requirement already satisfied: cycler>=0.10 in /usr/local/lib/python3.7/dist-packages (from matplotlib->pychorus) (0.11.0)\n",
            "Requirement already satisfied: kiwisolver>=1.0.1 in /usr/local/lib/python3.7/dist-packages (from matplotlib->pychorus) (1.3.2)\n",
            "Requirement already satisfied: chardet<4,>=3.0.2 in /usr/local/lib/python3.7/dist-packages (from requests->pooch>=1.0->librosa->pychorus) (3.0.4)\n",
            "Requirement already satisfied: certifi>=2017.4.17 in /usr/local/lib/python3.7/dist-packages (from requests->pooch>=1.0->librosa->pychorus) (2021.10.8)\n",
            "Requirement already satisfied: urllib3!=1.25.0,!=1.25.1,<1.26,>=1.21.1 in /usr/local/lib/python3.7/dist-packages (from requests->pooch>=1.0->librosa->pychorus) (1.24.3)\n",
            "Requirement already satisfied: idna<3,>=2.5 in /usr/local/lib/python3.7/dist-packages (from requests->pooch>=1.0->librosa->pychorus) (2.10)\n",
            "Building wheels for collected packages: pychorus\n",
            "  Building wheel for pychorus (setup.py) ... \u001b[?25l\u001b[?25hdone\n",
            "  Created wheel for pychorus: filename=pychorus-0.1-py3-none-any.whl size=6472 sha256=ed915ee84ac12717168dc977f908f4533ee9d4a9954f96f4c0833c69a4993f31\n",
            "  Stored in directory: /root/.cache/pip/wheels/50/b8/df/82626ca98c4d1443c1e5a93922e8194063af3c317b4e8444bd\n",
            "Successfully built pychorus\n",
            "Installing collected packages: pychorus\n",
            "Successfully installed pychorus-0.1\n"
          ]
        }
      ]
    },
    {
      "cell_type": "code",
      "source": [
        "import billboard\n",
        "import pandas as pd\n",
        "import librosa\n",
        "import pychorus\n",
        "import youtube_dl\n",
        "import numpy as np\n",
        "import scipy"
      ],
      "metadata": {
        "id": "1BTuYb7HjlM1"
      },
      "execution_count": 17,
      "outputs": []
    },
    {
      "cell_type": "code",
      "source": [
        "import billboard\n",
        "chart = billboard.ChartData('hot-100')\n",
        "chart.title\n",
        "\n"
      ],
      "metadata": {
        "colab": {
          "base_uri": "https://localhost:8080/",
          "height": 35
        },
        "id": "Zzc-SLkVPrz3",
        "outputId": "00019fe4-48a8-4c5a-ef18-86c15341a392"
      },
      "execution_count": 9,
      "outputs": [
        {
          "output_type": "execute_result",
          "data": {
            "application/vnd.google.colaboratory.intrinsic+json": {
              "type": "string"
            },
            "text/plain": [
              "'The Hot 100'"
            ]
          },
          "metadata": {},
          "execution_count": 9
        }
      ]
    },
    {
      "cell_type": "code",
      "source": [
        ""
      ],
      "metadata": {
        "id": "EtuOzP9qfGft"
      },
      "execution_count": null,
      "outputs": []
    },
    {
      "cell_type": "code",
      "source": [
        "song= chart[0]\n",
        "print(chart)\n"
      ],
      "metadata": {
        "colab": {
          "base_uri": "https://localhost:8080/"
        },
        "id": "2UD73HVaPwyh",
        "outputId": "2c3d676e-82b9-4c52-acc5-8ce4b325d3be"
      },
      "execution_count": null,
      "outputs": [
        {
          "output_type": "stream",
          "name": "stdout",
          "text": [
            "hot-100 chart from 2022-01-15\n",
            "-----------------------------\n",
            "1. 'Easy On Me' by Adele\n",
            "2. 'Stay' by The Kid LAROI & Justin Bieber\n",
            "3. 'Heat Waves' by Glass Animals\n",
            "4. 'Shivers' by Ed Sheeran\n",
            "5. 'We Don't Talk About Bruno' by Carolina Gaitan, Mauro Castillo, Adassa, Rhenzy Feliz, Diane Guerrero, Stephanie Beatriz & Encanto Cast\n",
            "6. 'Industry Baby' by Lil Nas X & Jack Harlow\n",
            "7. 'Cold Heart (PNAU Remix)' by Elton John & Dua Lipa\n",
            "8. 'Bad Habits' by Ed Sheeran\n",
            "9. 'Need To Know' by Doja Cat\n",
            "10. 'Super Gremlin' by Kodak Black\n",
            "11. 'abcdefu' by GAYLE\n",
            "12. 'Levitating' by Dua Lipa\n",
            "13. 'Smokin Out The Window' by Silk Sonic (Bruno Mars & Anderson .Paak)\n",
            "14. 'Surface Pressure' by Jessica Darrow\n",
            "15. 'Good 4 U' by Olivia Rodrigo\n",
            "16. 'Fancy Like' by Walker Hayes\n",
            "17. 'Ghost' by Justin Bieber\n",
            "18. 'Save Your Tears' by The Weeknd & Ariana Grande\n",
            "19. 'Kiss Me More' by Doja Cat Featuring SZA\n",
            "20. 'Thats What I Want' by Lil Nas X\n",
            "21. 'Essence' by Wizkid Featuring Justin Bieber & Tems\n",
            "22. 'One Right Now' by Post Malone & The Weeknd\n",
            "23. 'Better Days' by NEIKED X Mae Muller X Polo G\n",
            "24. 'Oh My God' by Adele\n",
            "25. 'You Right' by Doja Cat & The Weeknd\n",
            "26. 'Happier Than Ever' by Billie Eilish\n",
            "27. 'Broadway Girls' by Lil Durk Featuring Morgan Wallen\n",
            "28. 'Buy Dirt' by Jordan Davis Featuring Luke Bryan\n",
            "29. 'Love Nwantiti (Ah Ah Ah)' by CKay\n",
            "30. 'I Hate U' by SZA\n",
            "31. 'Knife Talk' by Drake Featuring 21 Savage & Project Pat\n",
            "32. 'You Should Probably Leave' by Chris Stapleton\n",
            "33. 'Way 2 Sexy' by Drake Featuring Future & Young Thug\n",
            "34. 'Hrs And Hrs' by Muni Long\n",
            "35. 'If I Didn't Love You' by Jason Aldean & Carrie Underwood\n",
            "36. 'Thinking 'Bout You' by Dustin Lynch Featuring Lauren Alaina Or MacKenzie Porter\n",
            "37. 'Whiskey And Rain' by Michael Ray\n",
            "38. 'Beggin'' by Maneskin\n",
            "39. 'Meet Me At Our Spot' by THE ANXIETY: WILLOW & Tyler Cole\n",
            "40. 'One Mississippi' by Kane Brown\n",
            "41. 'Montero (Call Me By Your Name)' by Lil Nas X\n",
            "42. 'Big Energy' by Latto\n",
            "43. 'Sand In My Boots' by Morgan Wallen\n",
            "44. 'Girls Want Girls' by Drake Featuring Lil Baby\n",
            "45. 'Freedom Was A Highway' by Jimmie Allen & Brad Paisley\n",
            "46. 'Pepas' by Farruko\n",
            "47. 'Who Want Smoke??' by Nardo Wick Featuring G Herbo, Lil Durk & 21 Savage\n",
            "48. 'Enemy' by Imagine Dragons X JID\n",
            "49. 'Leave The Door Open' by Silk Sonic (Bruno Mars & Anderson .Paak)\n",
            "50. 'Chasing After You' by Ryan Hurd With Maren Morris\n",
            "51. 'Chosen' by Blxst & Tyga Featuring Ty Dolla $ign\n",
            "52. 'To Be Loved By You' by Parker McCollum\n",
            "53. 'Half Of My Hometown' by Kelsea Ballerini Featuring Kenny Chesney\n",
            "54. 'Have Mercy' by Chloe\n",
            "55. 'All Too Well (Taylor's Version)' by Taylor Swift\n",
            "56. 'Woman' by Doja Cat\n",
            "57. ''Til You Can't' by Cody Johnson\n",
            "58. 'My Universe' by Coldplay x BTS\n",
            "59. 'Heart On Fire' by Eric Church\n",
            "60. 'Tequila Little Time' by Jon Pardi\n",
            "61. 'For Tonight' by Giveon\n",
            "62. 'The Family Madrigal' by Stephanie Beatriz, Olga Merediz & Encanto Cast\n",
            "63. 'Message In A Bottle (Taylor's Version) (From The Vault)' by Taylor Swift\n",
            "64. 'By Your Side' by Rod Wave\n",
            "65. 'Do It To It' by Acraze Featuring Cherish\n",
            "66. 'Scorpio' by Moneybagg Yo\n",
            "67. 'What Else Can I Do?' by Diane Guerrero & Stephanie Beatriz\n",
            "68. 'Flower Shops' by ERNEST Featuring Morgan Wallen\n",
            "69. 'Fingers Crossed' by Lauren Spencer-Smith\n",
            "70. 'Same Boat' by Zac Brown Band\n",
            "71. 'Life Goes On' by Oliver Tree\n",
            "72. 'Beers On Me' by Dierks Bentley, Breland & HARDY\n",
            "73. 'Poke It Out' by Wale Featuring J. Cole\n",
            "74. 'I Am Woman' by Emmy Meli\n",
            "75. '23' by Sam Hunt\n",
            "76. 'Doin' This' by Luke Combs\n",
            "77. 'Burn' by Juice WRLD\n",
            "78. 'Bubbly' by Young Thug With Drake & Travis Scott\n",
            "79. 'Pressure' by Ari Lennox\n",
            "80. 'No Love' by Summer Walker & SZA\n",
            "81. 'Family Ties' by Baby Keem & Kendrick Lamar\n",
            "82. 'Waiting On A Miracle' by Stephanie Beatriz\n",
            "83. 'Dos Oruguitas' by Sebastian Yatra\n",
            "84. 'Too Easy' by Gunna & Future\n",
            "85. 'Fair Trade' by Drake Featuring Travis Scott\n",
            "86. 'Volvi' by Aventura x Bad Bunny\n",
            "87. 'AA' by Walker Hayes\n",
            "88. 'Come Through' by H.E.R. Featuring Chris Brown\n",
            "89. 'Wandered To LA.' by Juice WRLD & Justin Bieber\n",
            "90. 'Home Sweet' by Russell Dickerson\n",
            "91. 'Come Back As A Country Boy' by Blake Shelton\n",
            "92. 'Already Dead' by Juice WRLD\n",
            "93. 'Black Ball' by YoungBoy Never Broke Again & Birdman\n",
            "94. 'Baddest' by Yung Bleu, Chris Brown & 2 Chainz\n",
            "95. 'Moth To A Flame' by Swedish House Mafia & The Weeknd\n",
            "96. 'Me Or Sum' by Nardo Wick, Lil Baby & Future\n",
            "97. 'I Love You So' by The Walters\n",
            "98. 'Bad Man (Smooth Criminal)' by Polo G\n",
            "99. 'Never Wanted To Be That Girl' by Carly Pearce & Ashley McBryde\n",
            "100. 'Just About Over You' by Priscilla Block\n"
          ]
        }
      ]
    },
    {
      "cell_type": "markdown",
      "source": [
        ""
      ],
      "metadata": {
        "id": "yKZEJ1Z4iWW0"
      }
    },
    {
      "cell_type": "code",
      "source": [
        "year = [\"2006\",\"2007\",\"2008\",\"2009\",\"2010\",\"2011\",\"2012\",\"2013\",\"2014\",\"2015\",\"2016\",\"2017\",\"2018\",\"2019\",\"2020\",\"2021\",\"2022\"]\n",
        "month = [\"01\",\"02\",\"03\",\"04\",\"05\",\"06\",\"07\",\"08\",\"09\",\"10\",\"11\",\"12\"]\n",
        "day = [\"07\",\"15\",\"22\",\"28\"]\n"
      ],
      "metadata": {
        "id": "Ou8RoQj6VF8A"
      },
      "execution_count": 42,
      "outputs": []
    },
    {
      "cell_type": "code",
      "source": [
        "songs=[]\n",
        "artist=[]\n",
        "popular=[]\n",
        "alternative=[]\n",
        "year_to_disaplay=[]"
      ],
      "metadata": {
        "id": "P1XqSPuOVWqS"
      },
      "execution_count": 43,
      "outputs": []
    },
    {
      "cell_type": "code",
      "source": [
        "for y in year:\n",
        "  for m in month:\n",
        "    for d in day:\n",
        "      chart = billboard.ChartData('pop-songs',date = y+\"-\"+m+\"-\"+d)\n",
        "      for i in range(len(chart)):\n",
        "        if chart[i].title not in songs:\n",
        "          songs.append(chart[i].title)\n",
        "          artist.append(chart[i].artist)\n",
        "          popular.append(1)"
      ],
      "metadata": {
        "id": "lFlXVVtfVcwS"
      },
      "execution_count": 30,
      "outputs": []
    },
    {
      "cell_type": "code",
      "source": [
        "df1 = pd.DataFrame({\"Songs\":songs,\"Artist\":artist,\"Label\":popular})\n",
        "df1.head()"
      ],
      "metadata": {
        "colab": {
          "base_uri": "https://localhost:8080/",
          "height": 49
        },
        "id": "uAkK4uuFiYR0",
        "outputId": "8be35f9f-c89e-45e0-8a27-ced7cf38321b"
      },
      "execution_count": 46,
      "outputs": [
        {
          "output_type": "execute_result",
          "data": {
            "text/html": [
              "\n",
              "  <div id=\"df-7b59f8ab-faf9-4c0f-ae37-e0a95660aede\">\n",
              "    <div class=\"colab-df-container\">\n",
              "      <div>\n",
              "<style scoped>\n",
              "    .dataframe tbody tr th:only-of-type {\n",
              "        vertical-align: middle;\n",
              "    }\n",
              "\n",
              "    .dataframe tbody tr th {\n",
              "        vertical-align: top;\n",
              "    }\n",
              "\n",
              "    .dataframe thead th {\n",
              "        text-align: right;\n",
              "    }\n",
              "</style>\n",
              "<table border=\"1\" class=\"dataframe\">\n",
              "  <thead>\n",
              "    <tr style=\"text-align: right;\">\n",
              "      <th></th>\n",
              "      <th>Songs</th>\n",
              "      <th>Artist</th>\n",
              "      <th>Label</th>\n",
              "    </tr>\n",
              "  </thead>\n",
              "  <tbody>\n",
              "  </tbody>\n",
              "</table>\n",
              "</div>\n",
              "      <button class=\"colab-df-convert\" onclick=\"convertToInteractive('df-7b59f8ab-faf9-4c0f-ae37-e0a95660aede')\"\n",
              "              title=\"Convert this dataframe to an interactive table.\"\n",
              "              style=\"display:none;\">\n",
              "        \n",
              "  <svg xmlns=\"http://www.w3.org/2000/svg\" height=\"24px\"viewBox=\"0 0 24 24\"\n",
              "       width=\"24px\">\n",
              "    <path d=\"M0 0h24v24H0V0z\" fill=\"none\"/>\n",
              "    <path d=\"M18.56 5.44l.94 2.06.94-2.06 2.06-.94-2.06-.94-.94-2.06-.94 2.06-2.06.94zm-11 1L8.5 8.5l.94-2.06 2.06-.94-2.06-.94L8.5 2.5l-.94 2.06-2.06.94zm10 10l.94 2.06.94-2.06 2.06-.94-2.06-.94-.94-2.06-.94 2.06-2.06.94z\"/><path d=\"M17.41 7.96l-1.37-1.37c-.4-.4-.92-.59-1.43-.59-.52 0-1.04.2-1.43.59L10.3 9.45l-7.72 7.72c-.78.78-.78 2.05 0 2.83L4 21.41c.39.39.9.59 1.41.59.51 0 1.02-.2 1.41-.59l7.78-7.78 2.81-2.81c.8-.78.8-2.07 0-2.86zM5.41 20L4 18.59l7.72-7.72 1.47 1.35L5.41 20z\"/>\n",
              "  </svg>\n",
              "      </button>\n",
              "      \n",
              "  <style>\n",
              "    .colab-df-container {\n",
              "      display:flex;\n",
              "      flex-wrap:wrap;\n",
              "      gap: 12px;\n",
              "    }\n",
              "\n",
              "    .colab-df-convert {\n",
              "      background-color: #E8F0FE;\n",
              "      border: none;\n",
              "      border-radius: 50%;\n",
              "      cursor: pointer;\n",
              "      display: none;\n",
              "      fill: #1967D2;\n",
              "      height: 32px;\n",
              "      padding: 0 0 0 0;\n",
              "      width: 32px;\n",
              "    }\n",
              "\n",
              "    .colab-df-convert:hover {\n",
              "      background-color: #E2EBFA;\n",
              "      box-shadow: 0px 1px 2px rgba(60, 64, 67, 0.3), 0px 1px 3px 1px rgba(60, 64, 67, 0.15);\n",
              "      fill: #174EA6;\n",
              "    }\n",
              "\n",
              "    [theme=dark] .colab-df-convert {\n",
              "      background-color: #3B4455;\n",
              "      fill: #D2E3FC;\n",
              "    }\n",
              "\n",
              "    [theme=dark] .colab-df-convert:hover {\n",
              "      background-color: #434B5C;\n",
              "      box-shadow: 0px 1px 3px 1px rgba(0, 0, 0, 0.15);\n",
              "      filter: drop-shadow(0px 1px 2px rgba(0, 0, 0, 0.3));\n",
              "      fill: #FFFFFF;\n",
              "    }\n",
              "  </style>\n",
              "\n",
              "      <script>\n",
              "        const buttonEl =\n",
              "          document.querySelector('#df-7b59f8ab-faf9-4c0f-ae37-e0a95660aede button.colab-df-convert');\n",
              "        buttonEl.style.display =\n",
              "          google.colab.kernel.accessAllowed ? 'block' : 'none';\n",
              "\n",
              "        async function convertToInteractive(key) {\n",
              "          const element = document.querySelector('#df-7b59f8ab-faf9-4c0f-ae37-e0a95660aede');\n",
              "          const dataTable =\n",
              "            await google.colab.kernel.invokeFunction('convertToInteractive',\n",
              "                                                     [key], {});\n",
              "          if (!dataTable) return;\n",
              "\n",
              "          const docLinkHtml = 'Like what you see? Visit the ' +\n",
              "            '<a target=\"_blank\" href=https://colab.research.google.com/notebooks/data_table.ipynb>data table notebook</a>'\n",
              "            + ' to learn more about interactive tables.';\n",
              "          element.innerHTML = '';\n",
              "          dataTable['output_type'] = 'display_data';\n",
              "          await google.colab.output.renderOutput(dataTable, element);\n",
              "          const docLink = document.createElement('div');\n",
              "          docLink.innerHTML = docLinkHtml;\n",
              "          element.appendChild(docLink);\n",
              "        }\n",
              "      </script>\n",
              "    </div>\n",
              "  </div>\n",
              "  "
            ],
            "text/plain": [
              "Empty DataFrame\n",
              "Columns: [Songs, Artist, Label]\n",
              "Index: []"
            ]
          },
          "metadata": {},
          "execution_count": 46
        }
      ]
    },
    {
      "cell_type": "code",
      "source": [
        "for y in year:\n",
        "  for m in month:\n",
        "    for d in day:\n",
        "      chart = billboard.ChartData('alternative-songs',date = y+\"-\"+m+\"-\"+d)\n",
        "      for i in range(len(chart)):\n",
        "        if chart[i].title not in songs:\n",
        "          songs.append(chart[i].title)\n",
        "          artist.append(chart[i].artist)\n",
        "          popular.append(0)"
      ],
      "metadata": {
        "id": "LxFjl0E3lhJr"
      },
      "execution_count": 21,
      "outputs": []
    },
    {
      "cell_type": "code",
      "source": [
        ""
      ],
      "metadata": {
        "id": "E7i6AoUank5J"
      },
      "execution_count": null,
      "outputs": []
    },
    {
      "cell_type": "code",
      "source": [
        "df1 = pd.DataFrame({\"Songs\":songs,\"Artist\":artist,\"Label\":alternative})\n",
        "df1.head()"
      ],
      "metadata": {
        "colab": {
          "base_uri": "https://localhost:8080/",
          "height": 49
        },
        "outputId": "bd5a0a9c-972d-4d2b-ada6-bf6311ff1c43",
        "id": "aHgLPdISn7VT"
      },
      "execution_count": 26,
      "outputs": [
        {
          "output_type": "execute_result",
          "data": {
            "text/html": [
              "\n",
              "  <div id=\"df-9679cdbf-ea8a-4b12-aff8-ced6642d070b\">\n",
              "    <div class=\"colab-df-container\">\n",
              "      <div>\n",
              "<style scoped>\n",
              "    .dataframe tbody tr th:only-of-type {\n",
              "        vertical-align: middle;\n",
              "    }\n",
              "\n",
              "    .dataframe tbody tr th {\n",
              "        vertical-align: top;\n",
              "    }\n",
              "\n",
              "    .dataframe thead th {\n",
              "        text-align: right;\n",
              "    }\n",
              "</style>\n",
              "<table border=\"1\" class=\"dataframe\">\n",
              "  <thead>\n",
              "    <tr style=\"text-align: right;\">\n",
              "      <th></th>\n",
              "      <th>Songs</th>\n",
              "      <th>Artist</th>\n",
              "      <th>Label</th>\n",
              "    </tr>\n",
              "  </thead>\n",
              "  <tbody>\n",
              "  </tbody>\n",
              "</table>\n",
              "</div>\n",
              "      <button class=\"colab-df-convert\" onclick=\"convertToInteractive('df-9679cdbf-ea8a-4b12-aff8-ced6642d070b')\"\n",
              "              title=\"Convert this dataframe to an interactive table.\"\n",
              "              style=\"display:none;\">\n",
              "        \n",
              "  <svg xmlns=\"http://www.w3.org/2000/svg\" height=\"24px\"viewBox=\"0 0 24 24\"\n",
              "       width=\"24px\">\n",
              "    <path d=\"M0 0h24v24H0V0z\" fill=\"none\"/>\n",
              "    <path d=\"M18.56 5.44l.94 2.06.94-2.06 2.06-.94-2.06-.94-.94-2.06-.94 2.06-2.06.94zm-11 1L8.5 8.5l.94-2.06 2.06-.94-2.06-.94L8.5 2.5l-.94 2.06-2.06.94zm10 10l.94 2.06.94-2.06 2.06-.94-2.06-.94-.94-2.06-.94 2.06-2.06.94z\"/><path d=\"M17.41 7.96l-1.37-1.37c-.4-.4-.92-.59-1.43-.59-.52 0-1.04.2-1.43.59L10.3 9.45l-7.72 7.72c-.78.78-.78 2.05 0 2.83L4 21.41c.39.39.9.59 1.41.59.51 0 1.02-.2 1.41-.59l7.78-7.78 2.81-2.81c.8-.78.8-2.07 0-2.86zM5.41 20L4 18.59l7.72-7.72 1.47 1.35L5.41 20z\"/>\n",
              "  </svg>\n",
              "      </button>\n",
              "      \n",
              "  <style>\n",
              "    .colab-df-container {\n",
              "      display:flex;\n",
              "      flex-wrap:wrap;\n",
              "      gap: 12px;\n",
              "    }\n",
              "\n",
              "    .colab-df-convert {\n",
              "      background-color: #E8F0FE;\n",
              "      border: none;\n",
              "      border-radius: 50%;\n",
              "      cursor: pointer;\n",
              "      display: none;\n",
              "      fill: #1967D2;\n",
              "      height: 32px;\n",
              "      padding: 0 0 0 0;\n",
              "      width: 32px;\n",
              "    }\n",
              "\n",
              "    .colab-df-convert:hover {\n",
              "      background-color: #E2EBFA;\n",
              "      box-shadow: 0px 1px 2px rgba(60, 64, 67, 0.3), 0px 1px 3px 1px rgba(60, 64, 67, 0.15);\n",
              "      fill: #174EA6;\n",
              "    }\n",
              "\n",
              "    [theme=dark] .colab-df-convert {\n",
              "      background-color: #3B4455;\n",
              "      fill: #D2E3FC;\n",
              "    }\n",
              "\n",
              "    [theme=dark] .colab-df-convert:hover {\n",
              "      background-color: #434B5C;\n",
              "      box-shadow: 0px 1px 3px 1px rgba(0, 0, 0, 0.15);\n",
              "      filter: drop-shadow(0px 1px 2px rgba(0, 0, 0, 0.3));\n",
              "      fill: #FFFFFF;\n",
              "    }\n",
              "  </style>\n",
              "\n",
              "      <script>\n",
              "        const buttonEl =\n",
              "          document.querySelector('#df-9679cdbf-ea8a-4b12-aff8-ced6642d070b button.colab-df-convert');\n",
              "        buttonEl.style.display =\n",
              "          google.colab.kernel.accessAllowed ? 'block' : 'none';\n",
              "\n",
              "        async function convertToInteractive(key) {\n",
              "          const element = document.querySelector('#df-9679cdbf-ea8a-4b12-aff8-ced6642d070b');\n",
              "          const dataTable =\n",
              "            await google.colab.kernel.invokeFunction('convertToInteractive',\n",
              "                                                     [key], {});\n",
              "          if (!dataTable) return;\n",
              "\n",
              "          const docLinkHtml = 'Like what you see? Visit the ' +\n",
              "            '<a target=\"_blank\" href=https://colab.research.google.com/notebooks/data_table.ipynb>data table notebook</a>'\n",
              "            + ' to learn more about interactive tables.';\n",
              "          element.innerHTML = '';\n",
              "          dataTable['output_type'] = 'display_data';\n",
              "          await google.colab.output.renderOutput(dataTable, element);\n",
              "          const docLink = document.createElement('div');\n",
              "          docLink.innerHTML = docLinkHtml;\n",
              "          element.appendChild(docLink);\n",
              "        }\n",
              "      </script>\n",
              "    </div>\n",
              "  </div>\n",
              "  "
            ],
            "text/plain": [
              "Empty DataFrame\n",
              "Columns: [Songs, Artist, Label]\n",
              "Index: []"
            ]
          },
          "metadata": {},
          "execution_count": 26
        }
      ]
    },
    {
      "cell_type": "code",
      "source": [
        "year = [\"2007\"]\n",
        "month = [\"01\",\"02\",\"03\",\"04\",\"05\",\"06\",\"07\",\"08\",\"09\",\"10\",\"11\",\"12\"]\n",
        "day = [\"07\",\"15\",\"22\",\"28\"]\n"
      ],
      "metadata": {
        "id": "zlwy_5Kez2-l"
      },
      "execution_count": 28,
      "outputs": []
    },
    {
      "cell_type": "code",
      "source": [
        ""
      ],
      "metadata": {
        "id": "krMKT9Wmz6Wb"
      },
      "execution_count": null,
      "outputs": []
    }
  ]
}